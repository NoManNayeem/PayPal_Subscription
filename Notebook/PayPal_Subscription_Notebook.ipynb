{
 "cells": [
  {
   "cell_type": "markdown",
   "id": "f0ca3a29-295f-4341-b5b2-505b299e4446",
   "metadata": {},
   "source": [
    "# Configure the PayPal SDK client"
   ]
  },
  {
   "cell_type": "code",
   "execution_count": null,
   "id": "6ea9ccae-2422-43cc-a83d-25490ace541a",
   "metadata": {},
   "outputs": [],
   "source": [
    "# Load credentials from environment (as set earlier)\n",
    "client_id = \"\"\n",
    "client_secret = \"\"\n"
   ]
  },
  {
   "cell_type": "code",
   "execution_count": 3,
   "id": "c4dcaff7-3f6a-4adb-8a1b-79509ff6cb87",
   "metadata": {},
   "outputs": [
    {
     "name": "stdout",
     "output_type": "stream",
     "text": [
      "✅ Access token: A21AAKJmNE7ixQArhcvsuihjpyi1i3NvC3dddFBP3LLN0kQ6T4NLCniio46dprqjvR5RTdl4fdQ2KFh3-m4YfPp0lTeGkgKLg\n"
     ]
    }
   ],
   "source": [
    "import os\n",
    "import requests\n",
    "from requests.auth import HTTPBasicAuth\n",
    "\n",
    "# PayPal sandbox OAuth endpoint\n",
    "token_url = \"https://api-m.sandbox.paypal.com/v1/oauth2/token\"\n",
    "\n",
    "# Request an access token\n",
    "resp = requests.post(\n",
    "    token_url,\n",
    "    auth=HTTPBasicAuth(client_id, client_secret),\n",
    "    headers={\"Accept\": \"application/json\"},\n",
    "    data={\"grant_type\": \"client_credentials\"}\n",
    ")\n",
    "resp.raise_for_status()\n",
    "access_token = resp.json()[\"access_token\"]\n",
    "\n",
    "print(\"✅ Access token:\", access_token)\n"
   ]
  },
  {
   "cell_type": "markdown",
   "id": "523ca744-c3a0-4300-879c-f846b8a5cbf3",
   "metadata": {},
   "source": [
    "# Create a one-time PayPal order"
   ]
  },
  {
   "cell_type": "code",
   "execution_count": 15,
   "id": "bcc106ce-358d-4b3a-b6fd-a702130e8788",
   "metadata": {},
   "outputs": [
    {
     "name": "stdout",
     "output_type": "stream",
     "text": [
      "✅ Order ID: 57144656TN7503030\n",
      "👉 Approval URL: https://www.sandbox.paypal.com/checkoutnow?token=57144656TN7503030\n"
     ]
    }
   ],
   "source": [
    "import requests\n",
    "import os\n",
    "\n",
    "# Step 1: PayPal Orders API endpoint (Sandbox)\n",
    "order_url = \"https://api-m.sandbox.paypal.com/v2/checkout/orders\"\n",
    "\n",
    "# Step 2: HTTP headers for auth\n",
    "headers = {\n",
    "    \"Content-Type\": \"application/json\",             # JSON payload\n",
    "    \"Authorization\": f\"Bearer {access_token}\"       # Your OAuth token\n",
    "}\n",
    "\n",
    "# Step 3: Order payload\n",
    "payload = {\n",
    "    \"intent\": \"CAPTURE\",                            # Auto-capture once approved\n",
    "    \"purchase_units\": [\n",
    "        {\n",
    "            \"amount\": {\n",
    "                \"currency_code\": \"USD\",            # USD transaction\n",
    "                \"value\": \"10.00\"                    # $10 one-time fee\n",
    "            },\n",
    "            \"description\": \"One-time $10 subscription to ChirpChecker\"\n",
    "        }\n",
    "    ],\n",
    "    \"application_context\": {\n",
    "        \"brand_name\": \"ChirpChecker\",               # Your app name in the PayPal UI\n",
    "        \"landing_page\": \"NO_PREFERENCE\",            # Let PayPal decide best layout\n",
    "        \"user_action\": \"PAY_NOW\",                   # Button reads “Pay Now”\n",
    "        \"return_url\": \"http://localhost:3000/return\",  # After approval, PayPal redirects here\n",
    "        \"cancel_url\": \"http://localhost:3000/cancel\"   # If canceled, user returns here\n",
    "    }\n",
    "}\n",
    "\n",
    "# Step 4: Create the order\n",
    "response = requests.post(order_url, headers=headers, json=payload)\n",
    "response.raise_for_status()                         # Error if non-2xx\n",
    "order = response.json()\n",
    "\n",
    "# Step 5: Pull out the approval link\n",
    "approve_link = next(\n",
    "    (link[\"href\"] for link in order[\"links\"] if link[\"rel\"] == \"approve\"),\n",
    "    None\n",
    ")\n",
    "\n",
    "# Output for you to use\n",
    "print(\"✅ Order ID:\", order[\"id\"])\n",
    "print(\"👉 Approval URL:\", approve_link)\n"
   ]
  },
  {
   "cell_type": "markdown",
   "id": "473196c6-bab3-4841-9d67-45dd22697c68",
   "metadata": {},
   "source": [
    "# Capture the approved order"
   ]
  },
  {
   "cell_type": "code",
   "execution_count": 22,
   "id": "9901adcc-594d-4bbb-831b-fd1bd02380a4",
   "metadata": {},
   "outputs": [
    {
     "name": "stdout",
     "output_type": "stream",
     "text": [
      "❌ Capture failed with status: 422\n",
      "{'name': 'UNPROCESSABLE_ENTITY', 'details': [{'issue': 'ORDER_NOT_APPROVED', 'description': \"Payer has not yet approved the Order for payment. Please redirect the payer to the 'rel':'approve' url returned as part of the HATEOAS links within the Create Order call or provide a valid payment_source in the request.\"}], 'message': 'The requested action could not be performed, semantically incorrect, or failed business validation.', 'debug_id': 'f2572602e5a93', 'links': [{'href': 'https://developer.paypal.com/api/rest/reference/orders/v2/errors/#ORDER_NOT_APPROVED', 'rel': 'information_link', 'method': 'GET'}]}\n"
     ]
    }
   ],
   "source": [
    "import requests\n",
    "\n",
    "order_id = \"57144656TN7503030\"   # your actual order ID\n",
    "capture_url = f\"https://api-m.sandbox.paypal.com/v2/checkout/orders/{order_id}/capture\"\n",
    "\n",
    "try:\n",
    "    resp = requests.post(capture_url, headers=headers)\n",
    "    resp.raise_for_status()\n",
    "    data = resp.json()\n",
    "    print(\"✅ Capture succeeded:\", data)\n",
    "except requests.HTTPError:\n",
    "    print(\"❌ Capture failed with status:\", resp.status_code)\n",
    "    # Print the full error details from PayPal\n",
    "    print(resp.json())\n"
   ]
  },
  {
   "cell_type": "markdown",
   "id": "da091359-b973-4cf8-b075-47547a2946fb",
   "metadata": {},
   "source": [
    "# Paypal Subscription"
   ]
  },
  {
   "cell_type": "code",
   "execution_count": 29,
   "id": "38cbe1fe-ce79-40a1-85bc-f77ce0fc5bf3",
   "metadata": {},
   "outputs": [],
   "source": [
    "import os, requests\n",
    "from requests.auth import HTTPBasicAuth\n",
    "\n",
    "# ————————————————\n",
    "# CONFIGURATION\n",
    "# ————————————————\n",
    "# Your sandbox credentials (make sure these are set in your env or replace directly)\n",
    "CLIENT_ID     = os.getenv(\"PAYPAL_CLIENT_ID\")\n",
    "CLIENT_SECRET = os.getenv(\"PAYPAL_CLIENT_SECRET\")\n",
    "\n",
    "# Replace these with the actual plan IDs from your PayPal sandbox\n",
    "MONTHLY_PLAN_ID = \"P-XXXXXXXXXXXXXXXXX\"  # $10/month plan\n",
    "YEARLY_PLAN_ID  = \"P-YYYYYYYYYYYYYYY\"  # $100/year plan\n",
    "\n",
    "# API endpoints\n",
    "OAUTH_URL         = \"https://api-m.sandbox.paypal.com/v1/oauth2/token\"\n",
    "ORDER_URL         = \"https://api-m.sandbox.paypal.com/v2/checkout/orders\"\n",
    "SUBSCRIPTION_URL  = \"https://api-m.sandbox.paypal.com/v1/billing/subscriptions\"\n",
    "\n",
    "\n",
    "# ————————————————\n",
    "# HELPERS\n",
    "# ————————————————\n",
    "def get_access_token():\n",
    "    \"\"\"\n",
    "    Fetch a sandbox OAuth2 token using client credentials.\n",
    "    \"\"\"\n",
    "    resp = requests.post(\n",
    "        OAUTH_URL,\n",
    "        auth=HTTPBasicAuth(CLIENT_ID, CLIENT_SECRET),\n",
    "        data={\"grant_type\": \"client_credentials\"}\n",
    "    )\n",
    "    resp.raise_for_status()\n",
    "    return resp.json()[\"access_token\"]\n",
    "\n",
    "\n",
    "def create_payment(plan: str, scheme: str):\n",
    "    \"\"\"\n",
    "    plan:   \"monthly\" or \"yearly\"\n",
    "    scheme: \"one_time\" or \"recurring\"\n",
    "    \n",
    "    Returns (id, approval_url)\n",
    "    \"\"\"\n",
    "    token = get_access_token()\n",
    "    headers = {\n",
    "        \"Content-Type\": \"application/json\",\n",
    "        \"Authorization\": f\"Bearer {token}\"\n",
    "    }\n",
    "\n",
    "    if scheme == \"one_time\":\n",
    "        # — Build a one-time order for $10 or $100\n",
    "        amount = \"10.00\" if plan == \"monthly\" else \"100.00\"\n",
    "        payload = {\n",
    "            \"intent\": \"CAPTURE\",\n",
    "            \"purchase_units\": [\n",
    "                {\"amount\": {\"currency_code\": \"USD\", \"value\": amount}}\n",
    "            ],\n",
    "            \"application_context\": {\n",
    "                \"brand_name\": \"ChirpChecker\",\n",
    "                \"landing_page\": \"NO_PREFERENCE\",\n",
    "                \"user_action\": \"PAY_NOW\",\n",
    "                \"return_url\": \"http://localhost:3000/return\",\n",
    "                \"cancel_url\": \"http://localhost:3000/cancel\"\n",
    "            }\n",
    "        }\n",
    "        resp = requests.post(ORDER_URL, headers=headers, json=payload)\n",
    "        resp.raise_for_status()\n",
    "        data = resp.json()\n",
    "        order_id = data[\"id\"]\n",
    "        approve_url = next(l[\"href\"] for l in data[\"links\"] if l[\"rel\"] == \"approve\")\n",
    "        return order_id, approve_url\n",
    "\n",
    "    elif scheme == \"recurring\":\n",
    "        # — Create a subscription for the chosen plan ID\n",
    "        plan_id = MONTHLY_PLAN_ID if plan == \"monthly\" else YEARLY_PLAN_ID\n",
    "        payload = {\n",
    "            \"plan_id\": plan_id,\n",
    "            \"application_context\": {\n",
    "                \"brand_name\": \"ChirpChecker\",\n",
    "                \"return_url\": \"http://localhost:3000/return\",\n",
    "                \"cancel_url\": \"http://localhost:3000/cancel\"\n",
    "            }\n",
    "        }\n",
    "        resp = requests.post(SUBSCRIPTION_URL, headers=headers, json=payload)\n",
    "        resp.raise_for_status()\n",
    "        data = resp.json()\n",
    "        sub_id = data[\"id\"]\n",
    "        approve_url = next(l[\"href\"] for l in data[\"links\"] if l[\"rel\"] == \"approve\")\n",
    "        return sub_id, approve_url\n",
    "\n",
    "    else:\n",
    "        raise ValueError(\"scheme must be 'one_time' or 'recurring'\")\n",
    "\n",
    "\n",
    "def check_status(entity_id: str, scheme: str):\n",
    "    \"\"\"\n",
    "    Fetches the latest status of an order or subscription.\n",
    "    scheme: \"one_time\" => Order; \"recurring\" => Subscription\n",
    "    Returns the full JSON response (inspect ['status']).\n",
    "    \"\"\"\n",
    "    token = get_access_token()\n",
    "    headers = {\n",
    "        \"Content-Type\": \"application/json\",\n",
    "        \"Authorization\": f\"Bearer {token}\"\n",
    "    }\n",
    "\n",
    "    if scheme == \"one_time\":\n",
    "        url = f\"{ORDER_URL}/{entity_id}\"\n",
    "    elif scheme == \"recurring\":\n",
    "        url = f\"{SUBSCRIPTION_URL}/{entity_id}\"\n",
    "    else:\n",
    "        raise ValueError(\"scheme must be 'one_time' or 'recurring'\")\n",
    "\n",
    "    resp = requests.get(url, headers=headers)\n",
    "    resp.raise_for_status()\n",
    "    return resp.json()\n"
   ]
  },
  {
   "cell_type": "markdown",
   "id": "b066f09d-1e9c-4262-8ad7-777fbca360e9",
   "metadata": {},
   "source": [
    "# How to use"
   ]
  },
  {
   "cell_type": "code",
   "execution_count": 33,
   "id": "03f38b04-1003-47e5-855b-fb96cd486821",
   "metadata": {},
   "outputs": [],
   "source": [
    "# 1) One-time $10 charge\n",
    "order_id, url = create_payment(\"monthly\", \"one_time\")\n",
    "print(\"Order ID:\", order_id)\n",
    "print(\"Buyer approval URL:\", url)\n",
    "\n",
    "# 2) Recurring monthly subscription\n",
    "sub_id, url = create_payment(\"monthly\", \"recurring\")\n",
    "print(\"Subscription ID:\", sub_id)\n",
    "print(\"Buyer approval URL:\", url)\n",
    "\n",
    "# 3) Later, check status\n",
    "status = check_status(order_id, \"one_time\")\n",
    "print(\"One-time order status:\", status[\"status\"])\n",
    "\n",
    "sub_status = check_status(sub_id, \"recurring\")\n",
    "print(\"Subscription status:\", sub_status[\"status\"])\n"
   ]
  },
  {
   "cell_type": "code",
   "execution_count": null,
   "id": "97e68677-7ee8-42ec-84ce-110e5813edf5",
   "metadata": {},
   "outputs": [],
   "source": []
  }
 ],
 "metadata": {
  "kernelspec": {
   "display_name": "Python 3 (ipykernel)",
   "language": "python",
   "name": "python3"
  },
  "language_info": {
   "codemirror_mode": {
    "name": "ipython",
    "version": 3
   },
   "file_extension": ".py",
   "mimetype": "text/x-python",
   "name": "python",
   "nbconvert_exporter": "python",
   "pygments_lexer": "ipython3",
   "version": "3.12.7"
  }
 },
 "nbformat": 4,
 "nbformat_minor": 5
}
